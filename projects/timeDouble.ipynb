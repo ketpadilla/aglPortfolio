{
 "cells": [
  {
   "cell_type": "code",
   "execution_count": 3,
   "metadata": {},
   "outputs": [
    {
     "name": "stdout",
     "output_type": "stream",
     "text": [
      "It will take 7 years to double your current investment with a rate of 0.1.\n"
     ]
    }
   ],
   "source": [
    "# CALCULATE TIME TO DOUBLE INVESTMENT\n",
    "from math import log\n",
    "\n",
    "\n",
    "# GET INPUT\n",
    "def get_input(prompt, type):\n",
    "    while True:\n",
    "        try:\n",
    "            userInput = type(input(prompt))\n",
    "            return userInput\n",
    "        except ValueError:\n",
    "            print(\"Invalid input. Please try again.\")\n",
    "            continue\n",
    "\n",
    "\n",
    "# * MAIN FUNCTION\n",
    "def main():\n",
    "    # Get interest rate\n",
    "    rate = get_input(\"Enter the interest rate (as a decimal): \", float)\n",
    "    # Calculate time to double investment\n",
    "    time = round(log(2)/rate)\n",
    "    # Print result\n",
    "    tense = \"year\" if time == 1 else \"years\"\n",
    "    return print(f\"It will take {time} {tense} to double your current investment with a rate of {rate}.\")\n",
    "\n",
    "if __name__ == \"__main__\":\n",
    "    main()"
   ]
  }
 ],
 "metadata": {
  "kernelspec": {
   "display_name": "Python 3",
   "language": "python",
   "name": "python3"
  },
  "language_info": {
   "codemirror_mode": {
    "name": "ipython",
    "version": 3
   },
   "file_extension": ".py",
   "mimetype": "text/x-python",
   "name": "python",
   "nbconvert_exporter": "python",
   "pygments_lexer": "ipython3",
   "version": "3.11.3"
  },
  "orig_nbformat": 4
 },
 "nbformat": 4,
 "nbformat_minor": 2
}
