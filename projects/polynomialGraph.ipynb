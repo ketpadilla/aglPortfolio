{
 "cells": [
  {
   "cell_type": "code",
   "execution_count": 1,
   "metadata": {},
   "outputs": [
    {
     "name": "stdout",
     "output_type": "stream",
     "text": [
      "Creating a polynomial graph...\n"
     ]
    },
    {
     "data": {
      "application/vnd.jupyter.widget-view+json": {
       "model_id": "8ce12f85c8be4ced8a45f03d7616bac2",
       "version_major": 2,
       "version_minor": 0
      },
      "text/plain": [
       "interactive(children=(IntSlider(value=0, description='a', max=14, min=-14), IntSlider(value=0, description='b'…"
      ]
     },
     "metadata": {},
     "output_type": "display_data"
    }
   ],
   "source": [
    "# LIBRARIES\n",
    "import matplotlib.pyplot as plt\n",
    "from numpy import linspace\n",
    "from ipywidgets import interactive, fixed\n",
    "from IPython.display import display\n",
    "\n",
    "\n",
    "# * GRAPH POLYNOMIAL FUNCTION\n",
    "def graphPolynomial(a, b, c, graphDimensions, fontSize):\n",
    "    # Initialize graph\n",
    "    fig, ax = plt.subplots()\n",
    "    # ! SET GRAPH DESIGN\n",
    "    # Set graph size\n",
    "    plt.axis([graphDimensions['xmin'], graphDimensions['xmax'], graphDimensions['ymin'], graphDimensions['ymax']])\n",
    "    # Set axis lines to dashed black\n",
    "    plt.plot([graphDimensions['xmin'], graphDimensions['xmax']], [0, 0], 'k--')\n",
    "    plt.plot([0, 0], [graphDimensions['ymin'], graphDimensions['ymax']], 'k--')\n",
    "    # Show grid with 0.5 spacing\n",
    "    plt.xticks(range(graphDimensions['xmin'], graphDimensions['xmax']+1), fontsize=fontSize - 8)\n",
    "    plt.yticks(range(graphDimensions['ymin'], graphDimensions['ymax']+1), fontsize=fontSize - 8)\n",
    "    plt.grid(which='both', ls='--', lw=0.5, color='gray', alpha=0.5)\n",
    "    # Set title\n",
    "    plt.title(\"Interactive Polynomial Graph\", fontsize=fontSize)\n",
    "    # ! PLOT GRAPH\n",
    "    # Initialize x values\n",
    "    x = linspace(graphDimensions['ymin'], graphDimensions['ymax'], 100)\n",
    "    # Plot graph\n",
    "    plt.plot(x, a*x**2+b*x+c)\n",
    "    # Show graph\n",
    "    plt.show()\n",
    "    return\n",
    "\n",
    "\n",
    "# * MAIN FUNCTION\n",
    "def main():\n",
    "    # Initalize variables\n",
    "    graphDimensions = {'xmin': -15, 'ymin': -15, 'xmax': 15, 'ymax': 15}\n",
    "    fontSize = max(9, (graphDimensions['xmax'] - graphDimensions['xmin']) / 2)\n",
    "    # Prompt user notice\n",
    "    print(\"Creating a polynomial graph...\")\n",
    "    # Initialize interactive graph\n",
    "    interacitve_plot = interactive(graphPolynomial, a=(-14,14), b=(-14,14), c=(-14,14), graphDimensions=fixed(graphDimensions), fontSize=fixed(fontSize))\n",
    "    # Display interactive graph\n",
    "    display(interacitve_plot)\n",
    "    return\n",
    "\n",
    "\n",
    "# Call main\n",
    "if __name__ == \"__main__\":\n",
    "    main()"
   ]
  }
 ],
 "metadata": {
  "kernelspec": {
   "display_name": "Python 3",
   "language": "python",
   "name": "python3"
  },
  "language_info": {
   "codemirror_mode": {
    "name": "ipython",
    "version": 3
   },
   "file_extension": ".py",
   "mimetype": "text/x-python",
   "name": "python",
   "nbconvert_exporter": "python",
   "pygments_lexer": "ipython3",
   "version": "3.11.3"
  },
  "orig_nbformat": 4
 },
 "nbformat": 4,
 "nbformat_minor": 2
}
