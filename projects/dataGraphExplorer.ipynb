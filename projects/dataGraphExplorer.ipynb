{
 "cells": [
  {
   "cell_type": "code",
   "execution_count": null,
   "metadata": {},
   "outputs": [],
   "source": [
    "## GET CSV FILE\n",
    "# via upload\n",
    "# via url userinput\n",
    "# via url in code\n",
    "\n",
    "## PANDAS LIBRARY TO SAVE CSV AS A DATAFRAME\n",
    "\n",
    "## PRINT HEADINGS AND FIRST TWO ROWS\n",
    "\n",
    "## STORE COLUMN NAMES AS LIST\n",
    "\n",
    "## CHOOSE 1-2 COLUMNS AND CONVERT TO NUMPY ARRAY\n",
    "\n",
    "## DISPLAY DATA AS SCATTER PLOT/LINE GRAPH\n",
    "\n",
    "## DYNAMIC: DIFFERENT COLUMN COMBINATIONS AND INTERPRET GRAPHS\n",
    "\n",
    "# LIBRARIES\n",
    "\n",
    "\n",
    "# * HELPER FUNCTIONS\n",
    "\n",
    "\n",
    "# * FUNCTIONS\n",
    "# * MAIN FUNCTION\n",
    "def main():\n",
    "    ...\n",
    "    return\n",
    "\n",
    "\n",
    "# * RUN PROGRAM\n",
    "if __name__ == \"__main__\":\n",
    "    main()"
   ]
  }
 ],
 "metadata": {
  "language_info": {
   "name": "python"
  },
  "orig_nbformat": 4
 },
 "nbformat": 4,
 "nbformat_minor": 2
}
